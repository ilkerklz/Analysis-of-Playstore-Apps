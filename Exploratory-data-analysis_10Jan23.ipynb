{
 "cells": [
  {
   "attachments": {},
   "cell_type": "markdown",
   "metadata": {},
   "source": [
    "# Playstore Live Project 2023"
   ]
  },
  {
   "attachments": {},
   "cell_type": "markdown",
   "metadata": {},
   "source": [
    "## Data Cleaning and Exploratory Data Analysis"
   ]
  },
  {
   "attachments": {},
   "cell_type": "markdown",
   "metadata": {},
   "source": [
    "### Import Modules and Data Review"
   ]
  },
  {
   "attachments": {},
   "cell_type": "markdown",
   "metadata": {},
   "source": [
    "#### Loading Modules"
   ]
  },
  {
   "cell_type": "code",
   "execution_count": 73,
   "metadata": {},
   "outputs": [],
   "source": [
    "# Libraries\n",
    "import numpy as np\n",
    "from numpy import nan\n",
    "import pandas as pd\n",
    "import seaborn as sns\n",
    "import matplotlib.pyplot as plt\n",
    "import scipy.stats as stats\n",
    "import missingno as msno\n",
    "from skimpy import clean_columns, skim\n",
    "\n",
    "%matplotlib inline\n",
    "\n",
    "# Ignore warnings\n",
    "import warnings\n",
    "warnings.filterwarnings('ignore')\n",
    "warnings.warn('this will not show')\n",
    "\n",
    "# Figure and display options\n",
    "plt.rcParams['figure.figsize'] = (10,6)\n",
    "pd.set_option('max_colwidth', 200)\n",
    "pd.set_option('display.max_rows', 1000)\n",
    "pd.set_option('display.max_columns', 200)\n",
    "pd.set_option('display.float_format', lambda x: '%.3f' % x)\n",
    "\n",
    "sns.set_style('whitegrid')"
   ]
  },
  {
   "attachments": {},
   "cell_type": "markdown",
   "metadata": {},
   "source": [
    "#### 'Apps' Data"
   ]
  },
  {
   "cell_type": "code",
   "execution_count": 74,
   "metadata": {},
   "outputs": [
    {
     "data": {
      "text/html": [
       "<div>\n",
       "<style scoped>\n",
       "    .dataframe tbody tr th:only-of-type {\n",
       "        vertical-align: middle;\n",
       "    }\n",
       "\n",
       "    .dataframe tbody tr th {\n",
       "        vertical-align: top;\n",
       "    }\n",
       "\n",
       "    .dataframe thead th {\n",
       "        text-align: right;\n",
       "    }\n",
       "</style>\n",
       "<table border=\"1\" class=\"dataframe\">\n",
       "  <thead>\n",
       "    <tr style=\"text-align: right;\">\n",
       "      <th></th>\n",
       "      <th>Category</th>\n",
       "      <th>Rating</th>\n",
       "      <th>Reviews</th>\n",
       "      <th>Size</th>\n",
       "      <th>Installs</th>\n",
       "      <th>Type</th>\n",
       "      <th>Price</th>\n",
       "      <th>Content Rating</th>\n",
       "      <th>Genres</th>\n",
       "      <th>Last Updated</th>\n",
       "      <th>Current Ver</th>\n",
       "      <th>Android Ver</th>\n",
       "    </tr>\n",
       "    <tr>\n",
       "      <th>App</th>\n",
       "      <th></th>\n",
       "      <th></th>\n",
       "      <th></th>\n",
       "      <th></th>\n",
       "      <th></th>\n",
       "      <th></th>\n",
       "      <th></th>\n",
       "      <th></th>\n",
       "      <th></th>\n",
       "      <th></th>\n",
       "      <th></th>\n",
       "      <th></th>\n",
       "    </tr>\n",
       "  </thead>\n",
       "  <tbody>\n",
       "    <tr>\n",
       "      <th>Photo Editor &amp; Candy Camera &amp; Grid &amp; ScrapBook</th>\n",
       "      <td>ART_AND_DESIGN</td>\n",
       "      <td>4.100</td>\n",
       "      <td>159.000</td>\n",
       "      <td>19M</td>\n",
       "      <td>10000.000</td>\n",
       "      <td>Free</td>\n",
       "      <td>0.000</td>\n",
       "      <td>Everyone</td>\n",
       "      <td>Art &amp; Design</td>\n",
       "      <td>07-01-2018</td>\n",
       "      <td>1.0.0</td>\n",
       "      <td>4.0.3 and up</td>\n",
       "    </tr>\n",
       "    <tr>\n",
       "      <th>Coloring book moana</th>\n",
       "      <td>ART_AND_DESIGN</td>\n",
       "      <td>3.900</td>\n",
       "      <td>967.000</td>\n",
       "      <td>14M</td>\n",
       "      <td>500000.000</td>\n",
       "      <td>Free</td>\n",
       "      <td>0.000</td>\n",
       "      <td>Everyone</td>\n",
       "      <td>Art &amp; Design;Pretend Play</td>\n",
       "      <td>15-01-2018</td>\n",
       "      <td>2.0.0</td>\n",
       "      <td>4.0.3 and up</td>\n",
       "    </tr>\n",
       "    <tr>\n",
       "      <th>U Launcher Lite – FREE Live Cool Themes, Hide Apps</th>\n",
       "      <td>ART_AND_DESIGN</td>\n",
       "      <td>4.700</td>\n",
       "      <td>87510.000</td>\n",
       "      <td>8.7M</td>\n",
       "      <td>5000000.000</td>\n",
       "      <td>Free</td>\n",
       "      <td>0.000</td>\n",
       "      <td>Everyone</td>\n",
       "      <td>Art &amp; Design</td>\n",
       "      <td>01-08-2018</td>\n",
       "      <td>1.2.4</td>\n",
       "      <td>4.0.3 and up</td>\n",
       "    </tr>\n",
       "    <tr>\n",
       "      <th>Sketch - Draw &amp; Paint</th>\n",
       "      <td>ART_AND_DESIGN</td>\n",
       "      <td>4.500</td>\n",
       "      <td>215644.000</td>\n",
       "      <td>25M</td>\n",
       "      <td>50000000.000</td>\n",
       "      <td>Free</td>\n",
       "      <td>0.000</td>\n",
       "      <td>Teen</td>\n",
       "      <td>Art &amp; Design</td>\n",
       "      <td>08-06-2018</td>\n",
       "      <td>Varies with device</td>\n",
       "      <td>4.2 and up</td>\n",
       "    </tr>\n",
       "    <tr>\n",
       "      <th>Pixel Draw - Number Art Coloring Book</th>\n",
       "      <td>ART_AND_DESIGN</td>\n",
       "      <td>4.300</td>\n",
       "      <td>967.000</td>\n",
       "      <td>2.8M</td>\n",
       "      <td>100000.000</td>\n",
       "      <td>Free</td>\n",
       "      <td>0.000</td>\n",
       "      <td>Everyone</td>\n",
       "      <td>Art &amp; Design;Creativity</td>\n",
       "      <td>20-06-2018</td>\n",
       "      <td>1.1</td>\n",
       "      <td>4.4 and up</td>\n",
       "    </tr>\n",
       "  </tbody>\n",
       "</table>\n",
       "</div>"
      ],
      "text/plain": [
       "                                                          Category  Rating  \\\n",
       "App                                                                          \n",
       "Photo Editor & Candy Camera & Grid & ScrapBook      ART_AND_DESIGN   4.100   \n",
       "Coloring book moana                                 ART_AND_DESIGN   3.900   \n",
       "U Launcher Lite – FREE Live Cool Themes, Hide Apps  ART_AND_DESIGN   4.700   \n",
       "Sketch - Draw & Paint                               ART_AND_DESIGN   4.500   \n",
       "Pixel Draw - Number Art Coloring Book               ART_AND_DESIGN   4.300   \n",
       "\n",
       "                                                      Reviews  Size  \\\n",
       "App                                                                   \n",
       "Photo Editor & Candy Camera & Grid & ScrapBook        159.000   19M   \n",
       "Coloring book moana                                   967.000   14M   \n",
       "U Launcher Lite – FREE Live Cool Themes, Hide Apps  87510.000  8.7M   \n",
       "Sketch - Draw & Paint                              215644.000   25M   \n",
       "Pixel Draw - Number Art Coloring Book                 967.000  2.8M   \n",
       "\n",
       "                                                       Installs  Type  Price  \\\n",
       "App                                                                            \n",
       "Photo Editor & Candy Camera & Grid & ScrapBook        10000.000  Free  0.000   \n",
       "Coloring book moana                                  500000.000  Free  0.000   \n",
       "U Launcher Lite – FREE Live Cool Themes, Hide Apps  5000000.000  Free  0.000   \n",
       "Sketch - Draw & Paint                              50000000.000  Free  0.000   \n",
       "Pixel Draw - Number Art Coloring Book                100000.000  Free  0.000   \n",
       "\n",
       "                                                   Content Rating  \\\n",
       "App                                                                 \n",
       "Photo Editor & Candy Camera & Grid & ScrapBook           Everyone   \n",
       "Coloring book moana                                      Everyone   \n",
       "U Launcher Lite – FREE Live Cool Themes, Hide Apps       Everyone   \n",
       "Sketch - Draw & Paint                                        Teen   \n",
       "Pixel Draw - Number Art Coloring Book                    Everyone   \n",
       "\n",
       "                                                                       Genres  \\\n",
       "App                                                                             \n",
       "Photo Editor & Candy Camera & Grid & ScrapBook                   Art & Design   \n",
       "Coloring book moana                                 Art & Design;Pretend Play   \n",
       "U Launcher Lite – FREE Live Cool Themes, Hide Apps               Art & Design   \n",
       "Sketch - Draw & Paint                                            Art & Design   \n",
       "Pixel Draw - Number Art Coloring Book                 Art & Design;Creativity   \n",
       "\n",
       "                                                   Last Updated  \\\n",
       "App                                                               \n",
       "Photo Editor & Candy Camera & Grid & ScrapBook       07-01-2018   \n",
       "Coloring book moana                                  15-01-2018   \n",
       "U Launcher Lite – FREE Live Cool Themes, Hide Apps   01-08-2018   \n",
       "Sketch - Draw & Paint                                08-06-2018   \n",
       "Pixel Draw - Number Art Coloring Book                20-06-2018   \n",
       "\n",
       "                                                           Current Ver  \\\n",
       "App                                                                      \n",
       "Photo Editor & Candy Camera & Grid & ScrapBook                   1.0.0   \n",
       "Coloring book moana                                              2.0.0   \n",
       "U Launcher Lite – FREE Live Cool Themes, Hide Apps               1.2.4   \n",
       "Sketch - Draw & Paint                               Varies with device   \n",
       "Pixel Draw - Number Art Coloring Book                              1.1   \n",
       "\n",
       "                                                     Android Ver  \n",
       "App                                                               \n",
       "Photo Editor & Candy Camera & Grid & ScrapBook      4.0.3 and up  \n",
       "Coloring book moana                                 4.0.3 and up  \n",
       "U Launcher Lite – FREE Live Cool Themes, Hide Apps  4.0.3 and up  \n",
       "Sketch - Draw & Paint                                 4.2 and up  \n",
       "Pixel Draw - Number Art Coloring Book                 4.4 and up  "
      ]
     },
     "execution_count": 74,
     "metadata": {},
     "output_type": "execute_result"
    }
   ],
   "source": [
    "# loading data from 'apps' file\n",
    "df1 = pd.read_csv('playstore_apps.csv', index_col=\"App\")\n",
    "\n",
    "df1.head()"
   ]
  },
  {
   "cell_type": "code",
   "execution_count": 75,
   "metadata": {},
   "outputs": [
    {
     "data": {
      "text/plain": [
       "Index(['Category', 'Rating', 'Reviews', 'Size', 'Installs', 'Type', 'Price',\n",
       "       'Content Rating', 'Genres', 'Last Updated', 'Current Ver',\n",
       "       'Android Ver'],\n",
       "      dtype='object')"
      ]
     },
     "execution_count": 75,
     "metadata": {},
     "output_type": "execute_result"
    }
   ],
   "source": [
    "df1.columns"
   ]
  },
  {
   "attachments": {},
   "cell_type": "markdown",
   "metadata": {},
   "source": [
    "> Need to edit column names"
   ]
  },
  {
   "cell_type": "code",
   "execution_count": 76,
   "metadata": {},
   "outputs": [
    {
     "data": {
      "text/html": [
       "<pre style=\"white-space:pre;overflow-x:auto;line-height:normal;font-family:Menlo,'DejaVu Sans Mono',consolas,'Courier New',monospace\"><span style=\"color: #008080; text-decoration-color: #008080; font-weight: bold\">12</span> column names have been cleaned\n",
       "</pre>\n"
      ],
      "text/plain": [
       "\u001b[1;36m12\u001b[0m column names have been cleaned\n"
      ]
     },
     "metadata": {},
     "output_type": "display_data"
    },
    {
     "data": {
      "text/html": [
       "<div>\n",
       "<style scoped>\n",
       "    .dataframe tbody tr th:only-of-type {\n",
       "        vertical-align: middle;\n",
       "    }\n",
       "\n",
       "    .dataframe tbody tr th {\n",
       "        vertical-align: top;\n",
       "    }\n",
       "\n",
       "    .dataframe thead th {\n",
       "        text-align: right;\n",
       "    }\n",
       "</style>\n",
       "<table border=\"1\" class=\"dataframe\">\n",
       "  <thead>\n",
       "    <tr style=\"text-align: right;\">\n",
       "      <th></th>\n",
       "      <th>category</th>\n",
       "      <th>rating</th>\n",
       "      <th>reviews</th>\n",
       "      <th>size</th>\n",
       "      <th>installs</th>\n",
       "      <th>type</th>\n",
       "      <th>price</th>\n",
       "      <th>content_rating</th>\n",
       "      <th>genres</th>\n",
       "      <th>last_updated</th>\n",
       "      <th>current_ver</th>\n",
       "      <th>android_ver</th>\n",
       "    </tr>\n",
       "    <tr>\n",
       "      <th>App</th>\n",
       "      <th></th>\n",
       "      <th></th>\n",
       "      <th></th>\n",
       "      <th></th>\n",
       "      <th></th>\n",
       "      <th></th>\n",
       "      <th></th>\n",
       "      <th></th>\n",
       "      <th></th>\n",
       "      <th></th>\n",
       "      <th></th>\n",
       "      <th></th>\n",
       "    </tr>\n",
       "  </thead>\n",
       "  <tbody>\n",
       "    <tr>\n",
       "      <th>CD COMET</th>\n",
       "      <td>MAPS_AND_NAVIGATION</td>\n",
       "      <td>4.300</td>\n",
       "      <td>12.000</td>\n",
       "      <td>2.6M</td>\n",
       "      <td>100.000</td>\n",
       "      <td>Free</td>\n",
       "      <td>0.000</td>\n",
       "      <td>Everyone</td>\n",
       "      <td>Maps &amp; Navigation</td>\n",
       "      <td>04-08-2018</td>\n",
       "      <td>4</td>\n",
       "      <td>4.1 and up</td>\n",
       "    </tr>\n",
       "    <tr>\n",
       "      <th>Meritrust CU Mobile Banking</th>\n",
       "      <td>FINANCE</td>\n",
       "      <td>4.700</td>\n",
       "      <td>3661.000</td>\n",
       "      <td>14M</td>\n",
       "      <td>50000.000</td>\n",
       "      <td>Free</td>\n",
       "      <td>0.000</td>\n",
       "      <td>Everyone</td>\n",
       "      <td>Finance</td>\n",
       "      <td>12-06-2018</td>\n",
       "      <td>5.9.1.0</td>\n",
       "      <td>5.0 and up</td>\n",
       "    </tr>\n",
       "    <tr>\n",
       "      <th>SKOUT - Meet, Chat, Go Live</th>\n",
       "      <td>SOCIAL</td>\n",
       "      <td>4.300</td>\n",
       "      <td>1064076.000</td>\n",
       "      <td>Varies with device</td>\n",
       "      <td>50000000.000</td>\n",
       "      <td>Free</td>\n",
       "      <td>0.000</td>\n",
       "      <td>Mature 17+</td>\n",
       "      <td>Social</td>\n",
       "      <td>28-07-2018</td>\n",
       "      <td>Varies with device</td>\n",
       "      <td>Varies with device</td>\n",
       "    </tr>\n",
       "  </tbody>\n",
       "</table>\n",
       "</div>"
      ],
      "text/plain": [
       "                                        category  rating     reviews  \\\n",
       "App                                                                    \n",
       "CD COMET                     MAPS_AND_NAVIGATION   4.300      12.000   \n",
       "Meritrust CU Mobile Banking              FINANCE   4.700    3661.000   \n",
       "SKOUT - Meet, Chat, Go Live               SOCIAL   4.300 1064076.000   \n",
       "\n",
       "                                           size     installs  type  price  \\\n",
       "App                                                                         \n",
       "CD COMET                                   2.6M      100.000  Free  0.000   \n",
       "Meritrust CU Mobile Banking                 14M    50000.000  Free  0.000   \n",
       "SKOUT - Meet, Chat, Go Live  Varies with device 50000000.000  Free  0.000   \n",
       "\n",
       "                            content_rating             genres last_updated  \\\n",
       "App                                                                          \n",
       "CD COMET                          Everyone  Maps & Navigation   04-08-2018   \n",
       "Meritrust CU Mobile Banking       Everyone            Finance   12-06-2018   \n",
       "SKOUT - Meet, Chat, Go Live     Mature 17+             Social   28-07-2018   \n",
       "\n",
       "                                    current_ver         android_ver  \n",
       "App                                                                  \n",
       "CD COMET                                      4          4.1 and up  \n",
       "Meritrust CU Mobile Banking             5.9.1.0          5.0 and up  \n",
       "SKOUT - Meet, Chat, Go Live  Varies with device  Varies with device  "
      ]
     },
     "execution_count": 76,
     "metadata": {},
     "output_type": "execute_result"
    }
   ],
   "source": [
    "df1 = clean_columns(df1)\n",
    "df1.sample(3)"
   ]
  },
  {
   "cell_type": "code",
   "execution_count": 77,
   "metadata": {},
   "outputs": [
    {
     "data": {
      "text/plain": [
       "Index(['category', 'rating', 'reviews', 'size', 'installs', 'type', 'price',\n",
       "       'content_rating', 'genres', 'last_updated', 'current_ver',\n",
       "       'android_ver'],\n",
       "      dtype='object')"
      ]
     },
     "execution_count": 77,
     "metadata": {},
     "output_type": "execute_result"
    }
   ],
   "source": [
    "df1.columns"
   ]
  },
  {
   "cell_type": "code",
   "execution_count": 78,
   "metadata": {},
   "outputs": [
    {
     "name": "stdout",
     "output_type": "stream",
     "text": [
      "<class 'pandas.core.frame.DataFrame'>\n",
      "Index: 10841 entries, Photo Editor & Candy Camera & Grid & ScrapBook to iHoroscope - 2018 Daily Horoscope & Astrology\n",
      "Data columns (total 12 columns):\n",
      " #   Column          Non-Null Count  Dtype  \n",
      "---  ------          --------------  -----  \n",
      " 0   category        10841 non-null  object \n",
      " 1   rating          9367 non-null   float64\n",
      " 2   reviews         10840 non-null  float64\n",
      " 3   size            10841 non-null  object \n",
      " 4   installs        10840 non-null  float64\n",
      " 5   type            10840 non-null  object \n",
      " 6   price           10840 non-null  float64\n",
      " 7   content_rating  10840 non-null  object \n",
      " 8   genres          10841 non-null  object \n",
      " 9   last_updated    10840 non-null  object \n",
      " 10  current_ver     10833 non-null  object \n",
      " 11  android_ver     10838 non-null  object \n",
      "dtypes: float64(4), object(8)\n",
      "memory usage: 1.1+ MB\n"
     ]
    }
   ],
   "source": [
    "df1.info()"
   ]
  },
  {
   "attachments": {},
   "cell_type": "markdown",
   "metadata": {},
   "source": [
    "#### Handling Duplicates"
   ]
  },
  {
   "cell_type": "code",
   "execution_count": 79,
   "metadata": {},
   "outputs": [
    {
     "data": {
      "text/plain": [
       "False    10349\n",
       "True       492\n",
       "dtype: int64"
      ]
     },
     "execution_count": 79,
     "metadata": {},
     "output_type": "execute_result"
    }
   ],
   "source": [
    "# checking for duplicates\n",
    "df1.duplicated().value_counts()"
   ]
  },
  {
   "cell_type": "code",
   "execution_count": 80,
   "metadata": {},
   "outputs": [],
   "source": [
    "# dropping duplicates\n",
    "df1.drop_duplicates(keep='first', inplace=True)"
   ]
  },
  {
   "cell_type": "code",
   "execution_count": 81,
   "metadata": {},
   "outputs": [
    {
     "data": {
      "text/plain": [
       "(10349, 12)"
      ]
     },
     "execution_count": 81,
     "metadata": {},
     "output_type": "execute_result"
    }
   ],
   "source": [
    "# shape of dataframe after removing duplicates\n",
    "df1.shape"
   ]
  },
  {
   "cell_type": "code",
   "execution_count": 82,
   "metadata": {},
   "outputs": [
    {
     "name": "stdout",
     "output_type": "stream",
     "text": [
      "<class 'pandas.core.frame.DataFrame'>\n",
      "Index: 10349 entries, Photo Editor & Candy Camera & Grid & ScrapBook to iHoroscope - 2018 Daily Horoscope & Astrology\n",
      "Data columns (total 12 columns):\n",
      " #   Column          Non-Null Count  Dtype  \n",
      "---  ------          --------------  -----  \n",
      " 0   category        10349 non-null  object \n",
      " 1   rating          8891 non-null   float64\n",
      " 2   reviews         10348 non-null  float64\n",
      " 3   size            10349 non-null  object \n",
      " 4   installs        10348 non-null  float64\n",
      " 5   type            10348 non-null  object \n",
      " 6   price           10348 non-null  float64\n",
      " 7   content_rating  10348 non-null  object \n",
      " 8   genres          10349 non-null  object \n",
      " 9   last_updated    10348 non-null  object \n",
      " 10  current_ver     10341 non-null  object \n",
      " 11  android_ver     10346 non-null  object \n",
      "dtypes: float64(4), object(8)\n",
      "memory usage: 1.0+ MB\n"
     ]
    }
   ],
   "source": [
    "df1.info()"
   ]
  },
  {
   "attachments": {},
   "cell_type": "markdown",
   "metadata": {},
   "source": [
    "#### Handling Irrelevant Values"
   ]
  },
  {
   "cell_type": "code",
   "execution_count": 83,
   "metadata": {},
   "outputs": [
    {
     "data": {
      "text/plain": [
       "Index(['category', 'rating', 'reviews', 'size', 'installs', 'type', 'price',\n",
       "       'content_rating', 'genres', 'last_updated', 'current_ver',\n",
       "       'android_ver'],\n",
       "      dtype='object')"
      ]
     },
     "execution_count": 83,
     "metadata": {},
     "output_type": "execute_result"
    }
   ],
   "source": [
    "df1.columns"
   ]
  },
  {
   "cell_type": "code",
   "execution_count": 84,
   "metadata": {},
   "outputs": [
    {
     "data": {
      "text/plain": [
       "array(['ART_AND_DESIGN', 'AUTO_AND_VEHICLES', 'BEAUTY',\n",
       "       'BOOKS_AND_REFERENCE', 'BUSINESS', 'COMICS', 'COMMUNICATION',\n",
       "       'DATING', 'EDUCATION', 'ENTERTAINMENT', 'EVENTS', 'FINANCE',\n",
       "       'FOOD_AND_DRINK', 'HEALTH_AND_FITNESS', 'HOUSE_AND_HOME',\n",
       "       'LIBRARIES_AND_DEMO', 'LIFESTYLE', 'GAME', 'FAMILY', 'MEDICAL',\n",
       "       'SOCIAL', 'SHOPPING', 'PHOTOGRAPHY', 'SPORTS', 'TRAVEL_AND_LOCAL',\n",
       "       'TOOLS', 'PERSONALIZATION', 'PRODUCTIVITY', 'PARENTING', 'WEATHER',\n",
       "       'VIDEO_PLAYERS', 'NEWS_AND_MAGAZINES', 'MAPS_AND_NAVIGATION',\n",
       "       '1.9'], dtype=object)"
      ]
     },
     "execution_count": 84,
     "metadata": {},
     "output_type": "execute_result"
    }
   ],
   "source": [
    "#'category' column \n",
    "df1.category.unique()"
   ]
  },
  {
   "attachments": {},
   "cell_type": "markdown",
   "metadata": {},
   "source": [
    "> '1.9' is irrelevant"
   ]
  },
  {
   "cell_type": "code",
   "execution_count": 85,
   "metadata": {},
   "outputs": [
    {
     "data": {
      "text/html": [
       "<div>\n",
       "<style scoped>\n",
       "    .dataframe tbody tr th:only-of-type {\n",
       "        vertical-align: middle;\n",
       "    }\n",
       "\n",
       "    .dataframe tbody tr th {\n",
       "        vertical-align: top;\n",
       "    }\n",
       "\n",
       "    .dataframe thead th {\n",
       "        text-align: right;\n",
       "    }\n",
       "</style>\n",
       "<table border=\"1\" class=\"dataframe\">\n",
       "  <thead>\n",
       "    <tr style=\"text-align: right;\">\n",
       "      <th></th>\n",
       "      <th>category</th>\n",
       "      <th>rating</th>\n",
       "      <th>reviews</th>\n",
       "      <th>size</th>\n",
       "      <th>installs</th>\n",
       "      <th>type</th>\n",
       "      <th>price</th>\n",
       "      <th>content_rating</th>\n",
       "      <th>genres</th>\n",
       "      <th>last_updated</th>\n",
       "      <th>current_ver</th>\n",
       "      <th>android_ver</th>\n",
       "    </tr>\n",
       "    <tr>\n",
       "      <th>App</th>\n",
       "      <th></th>\n",
       "      <th></th>\n",
       "      <th></th>\n",
       "      <th></th>\n",
       "      <th></th>\n",
       "      <th></th>\n",
       "      <th></th>\n",
       "      <th></th>\n",
       "      <th></th>\n",
       "      <th></th>\n",
       "      <th></th>\n",
       "      <th></th>\n",
       "    </tr>\n",
       "  </thead>\n",
       "  <tbody>\n",
       "    <tr>\n",
       "      <th>Life Made WI-Fi Touchscreen Photo Frame</th>\n",
       "      <td>1.9</td>\n",
       "      <td>19.000</td>\n",
       "      <td>NaN</td>\n",
       "      <td>1,000+</td>\n",
       "      <td>NaN</td>\n",
       "      <td>0</td>\n",
       "      <td>NaN</td>\n",
       "      <td>NaN</td>\n",
       "      <td>February 11, 2018</td>\n",
       "      <td>NaN</td>\n",
       "      <td>4.0 and up</td>\n",
       "      <td>NaN</td>\n",
       "    </tr>\n",
       "  </tbody>\n",
       "</table>\n",
       "</div>"
      ],
      "text/plain": [
       "                                        category  rating  reviews    size  \\\n",
       "App                                                                         \n",
       "Life Made WI-Fi Touchscreen Photo Frame      1.9  19.000      NaN  1,000+   \n",
       "\n",
       "                                         installs type  price content_rating  \\\n",
       "App                                                                            \n",
       "Life Made WI-Fi Touchscreen Photo Frame       NaN    0    NaN            NaN   \n",
       "\n",
       "                                                    genres last_updated  \\\n",
       "App                                                                       \n",
       "Life Made WI-Fi Touchscreen Photo Frame  February 11, 2018          NaN   \n",
       "\n",
       "                                        current_ver android_ver  \n",
       "App                                                              \n",
       "Life Made WI-Fi Touchscreen Photo Frame  4.0 and up         NaN  "
      ]
     },
     "execution_count": 85,
     "metadata": {},
     "output_type": "execute_result"
    }
   ],
   "source": [
    "df1[df1[\"category\"] == '1.9']"
   ]
  },
  {
   "attachments": {},
   "cell_type": "markdown",
   "metadata": {},
   "source": [
    "> Single entry, good to drop"
   ]
  },
  {
   "cell_type": "code",
   "execution_count": 86,
   "metadata": {},
   "outputs": [
    {
     "data": {
      "text/plain": [
       "'Life Made WI-Fi Touchscreen Photo Frame'"
      ]
     },
     "execution_count": 86,
     "metadata": {},
     "output_type": "execute_result"
    }
   ],
   "source": [
    "# locating index\n",
    "df1[df1[\"category\"] == '1.9'].index[0]"
   ]
  },
  {
   "cell_type": "code",
   "execution_count": 87,
   "metadata": {},
   "outputs": [],
   "source": [
    "df1.drop(df1[df1[\"category\"] == '1.9'].index[0], inplace=True)"
   ]
  },
  {
   "cell_type": "code",
   "execution_count": 88,
   "metadata": {},
   "outputs": [
    {
     "data": {
      "text/plain": [
       "array(['ART_AND_DESIGN', 'AUTO_AND_VEHICLES', 'BEAUTY',\n",
       "       'BOOKS_AND_REFERENCE', 'BUSINESS', 'COMICS', 'COMMUNICATION',\n",
       "       'DATING', 'EDUCATION', 'ENTERTAINMENT', 'EVENTS', 'FINANCE',\n",
       "       'FOOD_AND_DRINK', 'HEALTH_AND_FITNESS', 'HOUSE_AND_HOME',\n",
       "       'LIBRARIES_AND_DEMO', 'LIFESTYLE', 'GAME', 'FAMILY', 'MEDICAL',\n",
       "       'SOCIAL', 'SHOPPING', 'PHOTOGRAPHY', 'SPORTS', 'TRAVEL_AND_LOCAL',\n",
       "       'TOOLS', 'PERSONALIZATION', 'PRODUCTIVITY', 'PARENTING', 'WEATHER',\n",
       "       'VIDEO_PLAYERS', 'NEWS_AND_MAGAZINES', 'MAPS_AND_NAVIGATION'],\n",
       "      dtype=object)"
      ]
     },
     "execution_count": 88,
     "metadata": {},
     "output_type": "execute_result"
    }
   ],
   "source": [
    "# checking if the irrelevant values are removed\n",
    "df1.category.unique()"
   ]
  },
  {
   "cell_type": "code",
   "execution_count": 89,
   "metadata": {},
   "outputs": [
    {
     "data": {
      "text/plain": [
       "array([4.1, 3.9, 4.7, 4.5, 4.3, 4.4, 3.8, 4.2, 4.6, 3.2, 4. , nan, 4.8,\n",
       "       4.9, 3.6, 3.7, 3.3, 3.4, 3.5, 3.1, 5. , 2.6, 3. , 1.9, 2.5, 2.8,\n",
       "       2.7, 1. , 2.9, 2.3, 2.2, 1.7, 2. , 1.8, 2.4, 1.6, 2.1, 1.4, 1.5,\n",
       "       1.2])"
      ]
     },
     "execution_count": 89,
     "metadata": {},
     "output_type": "execute_result"
    }
   ],
   "source": [
    "df1.rating.unique()"
   ]
  },
  {
   "attachments": {},
   "cell_type": "markdown",
   "metadata": {},
   "source": [
    "> No irrelevant values"
   ]
  },
  {
   "cell_type": "code",
   "execution_count": 90,
   "metadata": {},
   "outputs": [
    {
     "data": {
      "text/plain": [
       "array([1.59000e+02, 9.67000e+02, 8.75100e+04, ..., 6.03000e+02,\n",
       "       1.19500e+03, 3.98307e+05])"
      ]
     },
     "execution_count": 90,
     "metadata": {},
     "output_type": "execute_result"
    }
   ],
   "source": [
    "df1.reviews.unique()"
   ]
  },
  {
   "attachments": {},
   "cell_type": "markdown",
   "metadata": {},
   "source": [
    "> No irrelevant values"
   ]
  },
  {
   "cell_type": "code",
   "execution_count": 91,
   "metadata": {},
   "outputs": [
    {
     "data": {
      "text/plain": [
       "array(['19M', '14M', '8.7M', '25M', '2.8M', '5.6M', '29M', '33M', '3.1M',\n",
       "       '28M', '12M', '20M', '21M', '37M', '2.7M', '5.5M', '17M', '39M',\n",
       "       '31M', '4.2M', '7.0M', '23M', '6.0M', '6.1M', '4.6M', '9.2M',\n",
       "       '5.2M', '11M', '24M', 'Varies with device', '9.4M', '15M', '10M',\n",
       "       '1.2M', '26M', '8.0M', '7.9M', '56M', '57M', '35M', '54M', '201k',\n",
       "       '3.6M', '5.7M', '8.6M', '2.4M', '27M', '2.5M', '16M', '3.4M',\n",
       "       '8.9M', '3.9M', '2.9M', '38M', '32M', '5.4M', '18M', '1.1M',\n",
       "       '2.2M', '4.5M', '9.8M', '52M', '9.0M', '6.7M', '30M', '2.6M',\n",
       "       '7.1M', '3.7M', '22M', '7.4M', '6.4M', '3.2M', '8.2M', '9.9M',\n",
       "       '4.9M', '9.5M', '5.0M', '5.9M', '13M', '73M', '6.8M', '3.5M',\n",
       "       '4.0M', '2.3M', '7.2M', '2.1M', '42M', '7.3M', '9.1M', '55M',\n",
       "       '23k', '6.5M', '1.5M', '7.5M', '51M', '41M', '48M', '8.5M', '46M',\n",
       "       '8.3M', '4.3M', '4.7M', '3.3M', '40M', '7.8M', '8.8M', '6.6M',\n",
       "       '5.1M', '61M', '66M', '79k', '8.4M', '118k', '44M', '695k', '1.6M',\n",
       "       '6.2M', '18k', '53M', '1.4M', '3.0M', '5.8M', '3.8M', '9.6M',\n",
       "       '45M', '63M', '49M', '77M', '4.4M', '4.8M', '70M', '6.9M', '9.3M',\n",
       "       '10.0M', '8.1M', '36M', '84M', '97M', '2.0M', '1.9M', '1.8M',\n",
       "       '5.3M', '47M', '556k', '526k', '76M', '7.6M', '59M', '9.7M', '78M',\n",
       "       '72M', '43M', '7.7M', '6.3M', '334k', '34M', '93M', '65M', '79M',\n",
       "       '100M', '58M', '50M', '68M', '64M', '67M', '60M', '94M', '232k',\n",
       "       '99M', '624k', '95M', '8.5k', '41k', '292k', '11k', '80M', '1.7M',\n",
       "       '74M', '62M', '69M', '75M', '98M', '85M', '82M', '96M', '87M',\n",
       "       '71M', '86M', '91M', '81M', '92M', '83M', '88M', '704k', '862k',\n",
       "       '899k', '378k', '266k', '375k', '1.3M', '975k', '980k', '4.1M',\n",
       "       '89M', '696k', '544k', '525k', '920k', '779k', '853k', '720k',\n",
       "       '713k', '772k', '318k', '58k', '241k', '196k', '857k', '51k',\n",
       "       '953k', '865k', '251k', '930k', '540k', '313k', '746k', '203k',\n",
       "       '26k', '314k', '239k', '371k', '220k', '730k', '756k', '91k',\n",
       "       '293k', '17k', '74k', '14k', '317k', '78k', '924k', '902k', '818k',\n",
       "       '81k', '939k', '169k', '45k', '475k', '965k', '90M', '545k', '61k',\n",
       "       '283k', '655k', '714k', '93k', '872k', '121k', '322k', '1.0M',\n",
       "       '976k', '172k', '238k', '549k', '206k', '954k', '444k', '717k',\n",
       "       '210k', '609k', '308k', '705k', '306k', '904k', '473k', '175k',\n",
       "       '350k', '383k', '454k', '421k', '70k', '812k', '442k', '842k',\n",
       "       '417k', '412k', '459k', '478k', '335k', '782k', '721k', '430k',\n",
       "       '429k', '192k', '200k', '460k', '728k', '496k', '816k', '414k',\n",
       "       '506k', '887k', '613k', '243k', '569k', '778k', '683k', '592k',\n",
       "       '319k', '186k', '840k', '647k', '191k', '373k', '437k', '598k',\n",
       "       '716k', '585k', '982k', '222k', '219k', '55k', '948k', '323k',\n",
       "       '691k', '511k', '951k', '963k', '25k', '554k', '351k', '27k',\n",
       "       '82k', '208k', '913k', '514k', '551k', '29k', '103k', '898k',\n",
       "       '743k', '116k', '153k', '209k', '353k', '499k', '173k', '597k',\n",
       "       '809k', '122k', '411k', '400k', '801k', '787k', '237k', '50k',\n",
       "       '643k', '986k', '97k', '516k', '837k', '780k', '961k', '269k',\n",
       "       '20k', '498k', '600k', '749k', '642k', '881k', '72k', '656k',\n",
       "       '601k', '221k', '228k', '108k', '940k', '176k', '33k', '663k',\n",
       "       '34k', '942k', '259k', '164k', '458k', '245k', '629k', '28k',\n",
       "       '288k', '775k', '785k', '636k', '916k', '994k', '309k', '485k',\n",
       "       '914k', '903k', '608k', '500k', '54k', '562k', '847k', '957k',\n",
       "       '688k', '811k', '270k', '48k', '329k', '523k', '921k', '874k',\n",
       "       '981k', '784k', '280k', '24k', '518k', '754k', '892k', '154k',\n",
       "       '860k', '364k', '387k', '626k', '161k', '879k', '39k', '970k',\n",
       "       '170k', '141k', '160k', '144k', '143k', '190k', '376k', '193k',\n",
       "       '246k', '73k', '658k', '992k', '253k', '420k', '404k', '470k',\n",
       "       '226k', '240k', '89k', '234k', '257k', '861k', '467k', '157k',\n",
       "       '44k', '676k', '67k', '552k', '885k', '1020k', '582k', '619k'],\n",
       "      dtype=object)"
      ]
     },
     "execution_count": 91,
     "metadata": {},
     "output_type": "execute_result"
    }
   ],
   "source": [
    "df1[\"size\"].unique()"
   ]
  },
  {
   "cell_type": "code",
   "execution_count": 92,
   "metadata": {},
   "outputs": [
    {
     "data": {
      "text/plain": [
       "App\n",
       "Hot Bhojpuri Video Song 2018 - Free Movies    3.7M\n",
       "Alabama Road Trips                             28M\n",
       "SCI-FI UI                                     3.9M\n",
       "Name: size, dtype: object"
      ]
     },
     "execution_count": 92,
     "metadata": {},
     "output_type": "execute_result"
    }
   ],
   "source": [
    "df1[\"size\"].sample(3)"
   ]
  },
  {
   "attachments": {},
   "cell_type": "markdown",
   "metadata": {},
   "source": [
    "> No irrelevant values"
   ]
  },
  {
   "cell_type": "code",
   "execution_count": 93,
   "metadata": {},
   "outputs": [
    {
     "data": {
      "text/plain": [
       "array([1.e+04, 5.e+05, 5.e+06, 5.e+07, 1.e+05, 5.e+04, 1.e+06, 1.e+07,\n",
       "       5.e+03, 1.e+08, 1.e+09, 1.e+03, 5.e+08, 5.e+01, 1.e+02, 5.e+02,\n",
       "       1.e+01, 1.e+00, 5.e+00, 0.e+00])"
      ]
     },
     "execution_count": 93,
     "metadata": {},
     "output_type": "execute_result"
    }
   ],
   "source": [
    "df1.installs.unique()"
   ]
  },
  {
   "cell_type": "code",
   "execution_count": 94,
   "metadata": {},
   "outputs": [
    {
     "data": {
      "text/plain": [
       "App\n",
       "Es-Bg Offline Voice Translator                   10.000\n",
       "AVG AntiVirus 2018 for Android Security   100000000.000\n",
       "AU Students Zone (Result 2016)                10000.000\n",
       "Name: installs, dtype: float64"
      ]
     },
     "execution_count": 94,
     "metadata": {},
     "output_type": "execute_result"
    }
   ],
   "source": [
    "df1.installs.sample(3)"
   ]
  },
  {
   "attachments": {},
   "cell_type": "markdown",
   "metadata": {},
   "source": [
    "> No irrelevant values"
   ]
  },
  {
   "cell_type": "code",
   "execution_count": 95,
   "metadata": {},
   "outputs": [
    {
     "data": {
      "text/plain": [
       "array(['Free', 'Paid', nan], dtype=object)"
      ]
     },
     "execution_count": 95,
     "metadata": {},
     "output_type": "execute_result"
    }
   ],
   "source": [
    "df1[\"type\"].unique()"
   ]
  },
  {
   "attachments": {},
   "cell_type": "markdown",
   "metadata": {},
   "source": [
    "> No irrelevant values"
   ]
  },
  {
   "cell_type": "code",
   "execution_count": 96,
   "metadata": {},
   "outputs": [
    {
     "data": {
      "text/plain": [
       "array([  0.  ,   4.99,   3.99,   6.99,   1.49,   2.99,   7.99,   5.99,\n",
       "         3.49,   1.99,   9.99,   7.49,   0.99,   9.  ,   5.49,  10.  ,\n",
       "        24.99,  11.99,  79.99,  16.99,  14.99,   1.  ,  29.99,  12.99,\n",
       "         2.49,  10.99,   1.5 ,  19.99,  15.99,  33.99,  74.99,  39.99,\n",
       "         3.95,   4.49,   1.7 ,   8.99,   2.  ,   3.88,  25.99, 399.99,\n",
       "        17.99, 400.  ,   3.02,   1.76,   4.84,   4.77,   1.61,   2.5 ,\n",
       "         1.59,   6.49,   1.29,   5.  ,  13.99, 299.99, 379.99,  37.99,\n",
       "        18.99, 389.99,  19.9 ,   8.49,   1.75,  14.  ,   4.85,  46.99,\n",
       "       109.99, 154.99,   3.08,   2.59,   4.8 ,   1.96,  19.4 ,   3.9 ,\n",
       "         4.59,  15.46,   3.04,   4.29,   2.6 ,   3.28,   4.6 ,  28.99,\n",
       "         2.95,   2.9 ,   1.97, 200.  ,  89.99,   2.56,  30.99,   3.61,\n",
       "       394.99,   1.26,   1.2 ,   1.04])"
      ]
     },
     "execution_count": 96,
     "metadata": {},
     "output_type": "execute_result"
    }
   ],
   "source": [
    "df1.price.unique()"
   ]
  },
  {
   "cell_type": "code",
   "execution_count": 97,
   "metadata": {},
   "outputs": [
    {
     "data": {
      "text/plain": [
       "dtype('float64')"
      ]
     },
     "execution_count": 97,
     "metadata": {},
     "output_type": "execute_result"
    }
   ],
   "source": [
    "df1.price.dtype"
   ]
  },
  {
   "cell_type": "code",
   "execution_count": 98,
   "metadata": {},
   "outputs": [
    {
     "data": {
      "text/plain": [
       "App\n",
       "Morse Player Free                                    0.000\n",
       "Breaking News, Local news, Attacks and Alerts Free   0.000\n",
       "ES Summer Chill Theme for Free                       0.000\n",
       "Name: price, dtype: float64"
      ]
     },
     "execution_count": 98,
     "metadata": {},
     "output_type": "execute_result"
    }
   ],
   "source": [
    "df1.price.sample(3)"
   ]
  },
  {
   "attachments": {},
   "cell_type": "markdown",
   "metadata": {},
   "source": [
    "> No irrelevant values"
   ]
  },
  {
   "cell_type": "code",
   "execution_count": 99,
   "metadata": {},
   "outputs": [
    {
     "data": {
      "text/plain": [
       "Index(['category', 'rating', 'reviews', 'size', 'installs', 'type', 'price',\n",
       "       'content_rating', 'genres', 'last_updated', 'current_ver',\n",
       "       'android_ver'],\n",
       "      dtype='object')"
      ]
     },
     "execution_count": 99,
     "metadata": {},
     "output_type": "execute_result"
    }
   ],
   "source": [
    "df1.columns"
   ]
  },
  {
   "cell_type": "code",
   "execution_count": 100,
   "metadata": {},
   "outputs": [
    {
     "data": {
      "text/plain": [
       "array(['Everyone', 'Teen', 'Everyone 10+', 'Mature 17+',\n",
       "       'Adults only 18+', 'Unrated'], dtype=object)"
      ]
     },
     "execution_count": 100,
     "metadata": {},
     "output_type": "execute_result"
    }
   ],
   "source": [
    "df1.content_rating.unique()"
   ]
  },
  {
   "attachments": {},
   "cell_type": "markdown",
   "metadata": {},
   "source": [
    "> No irrelevant values"
   ]
  },
  {
   "cell_type": "code",
   "execution_count": 101,
   "metadata": {},
   "outputs": [
    {
     "data": {
      "text/plain": [
       "array(['Art & Design', 'Art & Design;Pretend Play',\n",
       "       'Art & Design;Creativity', 'Art & Design;Action & Adventure',\n",
       "       'Auto & Vehicles', 'Beauty', 'Books & Reference', 'Business',\n",
       "       'Comics', 'Comics;Creativity', 'Communication', 'Dating',\n",
       "       'Education;Education', 'Education', 'Education;Creativity',\n",
       "       'Education;Music & Video', 'Education;Action & Adventure',\n",
       "       'Education;Pretend Play', 'Education;Brain Games', 'Entertainment',\n",
       "       'Entertainment;Music & Video', 'Entertainment;Brain Games',\n",
       "       'Entertainment;Creativity', 'Events', 'Finance', 'Food & Drink',\n",
       "       'Health & Fitness', 'House & Home', 'Libraries & Demo',\n",
       "       'Lifestyle', 'Lifestyle;Pretend Play',\n",
       "       'Adventure;Action & Adventure', 'Arcade', 'Casual', 'Card',\n",
       "       'Casual;Pretend Play', 'Action', 'Strategy', 'Puzzle', 'Sports',\n",
       "       'Music', 'Word', 'Racing', 'Casual;Creativity',\n",
       "       'Casual;Action & Adventure', 'Simulation', 'Adventure', 'Board',\n",
       "       'Trivia', 'Role Playing', 'Simulation;Education',\n",
       "       'Action;Action & Adventure', 'Casual;Brain Games',\n",
       "       'Simulation;Action & Adventure', 'Educational;Creativity',\n",
       "       'Puzzle;Brain Games', 'Educational;Education', 'Card;Brain Games',\n",
       "       'Educational;Brain Games', 'Educational;Pretend Play',\n",
       "       'Entertainment;Education', 'Casual;Education',\n",
       "       'Music;Music & Video', 'Racing;Action & Adventure',\n",
       "       'Arcade;Pretend Play', 'Role Playing;Action & Adventure',\n",
       "       'Simulation;Pretend Play', 'Puzzle;Creativity',\n",
       "       'Sports;Action & Adventure', 'Educational;Action & Adventure',\n",
       "       'Arcade;Action & Adventure', 'Entertainment;Action & Adventure',\n",
       "       'Puzzle;Action & Adventure', 'Strategy;Action & Adventure',\n",
       "       'Music & Audio;Music & Video', 'Health & Fitness;Education',\n",
       "       'Adventure;Education', 'Board;Brain Games',\n",
       "       'Board;Action & Adventure', 'Board;Pretend Play',\n",
       "       'Casual;Music & Video', 'Role Playing;Pretend Play',\n",
       "       'Entertainment;Pretend Play', 'Video Players & Editors;Creativity',\n",
       "       'Card;Action & Adventure', 'Medical', 'Social', 'Shopping',\n",
       "       'Photography', 'Travel & Local',\n",
       "       'Travel & Local;Action & Adventure', 'Tools', 'Tools;Education',\n",
       "       'Personalization', 'Productivity', 'Parenting',\n",
       "       'Parenting;Music & Video', 'Parenting;Education',\n",
       "       'Parenting;Brain Games', 'Weather', 'Video Players & Editors',\n",
       "       'Video Players & Editors;Music & Video', 'News & Magazines',\n",
       "       'Maps & Navigation', 'Health & Fitness;Action & Adventure',\n",
       "       'Educational', 'Casino', 'Adventure;Brain Games',\n",
       "       'Trivia;Education', 'Lifestyle;Education',\n",
       "       'Books & Reference;Creativity', 'Books & Reference;Education',\n",
       "       'Puzzle;Education', 'Role Playing;Education',\n",
       "       'Role Playing;Brain Games', 'Strategy;Education',\n",
       "       'Racing;Pretend Play', 'Communication;Creativity',\n",
       "       'Strategy;Creativity'], dtype=object)"
      ]
     },
     "execution_count": 101,
     "metadata": {},
     "output_type": "execute_result"
    }
   ],
   "source": [
    "df1.genres.unique()"
   ]
  },
  {
   "attachments": {},
   "cell_type": "markdown",
   "metadata": {},
   "source": [
    "> No irrelevant values"
   ]
  },
  {
   "cell_type": "code",
   "execution_count": 102,
   "metadata": {},
   "outputs": [
    {
     "data": {
      "text/plain": [
       "Index(['category', 'rating', 'reviews', 'size', 'installs', 'type', 'price',\n",
       "       'content_rating', 'genres', 'last_updated', 'current_ver',\n",
       "       'android_ver'],\n",
       "      dtype='object')"
      ]
     },
     "execution_count": 102,
     "metadata": {},
     "output_type": "execute_result"
    }
   ],
   "source": [
    "df1.columns"
   ]
  },
  {
   "cell_type": "code",
   "execution_count": 103,
   "metadata": {},
   "outputs": [
    {
     "data": {
      "text/plain": [
       "array(['07-01-2018', '15-01-2018', '01-08-2018', ..., '20-01-2014',\n",
       "       '16-02-2014', '23-03-2014'], dtype=object)"
      ]
     },
     "execution_count": 103,
     "metadata": {},
     "output_type": "execute_result"
    }
   ],
   "source": [
    "df1.last_updated.unique()"
   ]
  },
  {
   "cell_type": "code",
   "execution_count": 104,
   "metadata": {},
   "outputs": [
    {
     "data": {
      "text/plain": [
       "App\n",
       "Sabka Malik Ek Sai              25-05-2013\n",
       "Multiling O Keyboard + emoji    03-07-2018\n",
       "P Icon Pack                     16-07-2018\n",
       "Name: last_updated, dtype: object"
      ]
     },
     "execution_count": 104,
     "metadata": {},
     "output_type": "execute_result"
    }
   ],
   "source": [
    "df1.last_updated.sample(3)"
   ]
  },
  {
   "attachments": {},
   "cell_type": "markdown",
   "metadata": {},
   "source": [
    "> No irrelevant values"
   ]
  },
  {
   "cell_type": "code",
   "execution_count": 105,
   "metadata": {},
   "outputs": [
    {
     "data": {
      "text/plain": [
       "array(['1.0.0', '2.0.0', '1.2.4', ..., '1.0.612928', '0.3.4', '2.0.148.0'],\n",
       "      dtype=object)"
      ]
     },
     "execution_count": 105,
     "metadata": {},
     "output_type": "execute_result"
    }
   ],
   "source": [
    "df1.current_ver.unique()"
   ]
  },
  {
   "cell_type": "code",
   "execution_count": 106,
   "metadata": {},
   "outputs": [
    {
     "data": {
      "text/plain": [
       "App\n",
       "Easy and Fast Recipes     3.0.1\n",
       "Walmart MoneyCard        1.14.1\n",
       "Marcus Theatres          2.9.43\n",
       "Name: current_ver, dtype: object"
      ]
     },
     "execution_count": 106,
     "metadata": {},
     "output_type": "execute_result"
    }
   ],
   "source": [
    "df1.current_ver.sample(3)"
   ]
  },
  {
   "attachments": {},
   "cell_type": "markdown",
   "metadata": {},
   "source": [
    "> No irrelevant values"
   ]
  },
  {
   "cell_type": "code",
   "execution_count": 107,
   "metadata": {},
   "outputs": [
    {
     "data": {
      "text/plain": [
       "array(['4.0.3 and up', '4.2 and up', '4.4 and up', '2.3 and up',\n",
       "       '3.0 and up', '4.1 and up', '4.0 and up', '2.3.3 and up',\n",
       "       'Varies with device', '2.2 and up', '5.0 and up', '6.0 and up',\n",
       "       '1.6 and up', '1.5 and up', '2.1 and up', '7.0 and up',\n",
       "       '5.1 and up', '4.3 and up', '4.0.3 - 7.1.1', '2.0 and up',\n",
       "       '3.2 and up', '4.4W and up', '7.1 and up', '7.0 - 7.1.1',\n",
       "       '8.0 and up', '5.0 - 8.0', '3.1 and up', '2.0.1 and up',\n",
       "       '4.1 - 7.1.1', nan, '5.0 - 6.0', '1.0 and up', '2.2 - 7.1.1',\n",
       "       '5.0 - 7.1.1'], dtype=object)"
      ]
     },
     "execution_count": 107,
     "metadata": {},
     "output_type": "execute_result"
    }
   ],
   "source": [
    "df1.android_ver.unique()"
   ]
  },
  {
   "attachments": {},
   "cell_type": "markdown",
   "metadata": {},
   "source": [
    "> No irrelevant values"
   ]
  },
  {
   "attachments": {},
   "cell_type": "markdown",
   "metadata": {},
   "source": [
    "#### 'Reviews' Data"
   ]
  },
  {
   "cell_type": "code",
   "execution_count": 108,
   "metadata": {},
   "outputs": [
    {
     "data": {
      "text/html": [
       "<div>\n",
       "<style scoped>\n",
       "    .dataframe tbody tr th:only-of-type {\n",
       "        vertical-align: middle;\n",
       "    }\n",
       "\n",
       "    .dataframe tbody tr th {\n",
       "        vertical-align: top;\n",
       "    }\n",
       "\n",
       "    .dataframe thead th {\n",
       "        text-align: right;\n",
       "    }\n",
       "</style>\n",
       "<table border=\"1\" class=\"dataframe\">\n",
       "  <thead>\n",
       "    <tr style=\"text-align: right;\">\n",
       "      <th></th>\n",
       "      <th>Translated_Review</th>\n",
       "      <th>Sentiment</th>\n",
       "      <th>Sentiment_Polarity</th>\n",
       "      <th>Sentiment_Subjectivity</th>\n",
       "    </tr>\n",
       "    <tr>\n",
       "      <th>App</th>\n",
       "      <th></th>\n",
       "      <th></th>\n",
       "      <th></th>\n",
       "      <th></th>\n",
       "    </tr>\n",
       "  </thead>\n",
       "  <tbody>\n",
       "    <tr>\n",
       "      <th>10 Best Foods for You</th>\n",
       "      <td>I like eat delicious food. That's I'm cooking food myself, case \"10 Best Foods\" helps lot, also \"Best Before (Shelf Life)\"</td>\n",
       "      <td>Positive</td>\n",
       "      <td>1.000</td>\n",
       "      <td>0.533</td>\n",
       "    </tr>\n",
       "    <tr>\n",
       "      <th>10 Best Foods for You</th>\n",
       "      <td>This help eating healthy exercise regular basis</td>\n",
       "      <td>Positive</td>\n",
       "      <td>0.250</td>\n",
       "      <td>0.288</td>\n",
       "    </tr>\n",
       "    <tr>\n",
       "      <th>10 Best Foods for You</th>\n",
       "      <td>NaN</td>\n",
       "      <td>NaN</td>\n",
       "      <td>NaN</td>\n",
       "      <td>NaN</td>\n",
       "    </tr>\n",
       "    <tr>\n",
       "      <th>10 Best Foods for You</th>\n",
       "      <td>Works great especially going grocery store</td>\n",
       "      <td>Positive</td>\n",
       "      <td>0.400</td>\n",
       "      <td>0.875</td>\n",
       "    </tr>\n",
       "    <tr>\n",
       "      <th>10 Best Foods for You</th>\n",
       "      <td>Best idea us</td>\n",
       "      <td>Positive</td>\n",
       "      <td>1.000</td>\n",
       "      <td>0.300</td>\n",
       "    </tr>\n",
       "  </tbody>\n",
       "</table>\n",
       "</div>"
      ],
      "text/plain": [
       "                                                                                                                                Translated_Review  \\\n",
       "App                                                                                                                                                 \n",
       "10 Best Foods for You  I like eat delicious food. That's I'm cooking food myself, case \"10 Best Foods\" helps lot, also \"Best Before (Shelf Life)\"   \n",
       "10 Best Foods for You                                                                             This help eating healthy exercise regular basis   \n",
       "10 Best Foods for You                                                                                                                         NaN   \n",
       "10 Best Foods for You                                                                                  Works great especially going grocery store   \n",
       "10 Best Foods for You                                                                                                                Best idea us   \n",
       "\n",
       "                      Sentiment  Sentiment_Polarity  Sentiment_Subjectivity  \n",
       "App                                                                          \n",
       "10 Best Foods for You  Positive               1.000                   0.533  \n",
       "10 Best Foods for You  Positive               0.250                   0.288  \n",
       "10 Best Foods for You       NaN                 NaN                     NaN  \n",
       "10 Best Foods for You  Positive               0.400                   0.875  \n",
       "10 Best Foods for You  Positive               1.000                   0.300  "
      ]
     },
     "execution_count": 108,
     "metadata": {},
     "output_type": "execute_result"
    }
   ],
   "source": [
    "# loading data from 'reviews' file\n",
    "df2 = pd.read_csv('playstore_reviews.csv', index_col=\"App\")\n",
    "\n",
    "df2.head()"
   ]
  },
  {
   "attachments": {},
   "cell_type": "markdown",
   "metadata": {},
   "source": [
    "> Need to edit column names"
   ]
  },
  {
   "cell_type": "code",
   "execution_count": 109,
   "metadata": {},
   "outputs": [
    {
     "data": {
      "text/html": [
       "<pre style=\"white-space:pre;overflow-x:auto;line-height:normal;font-family:Menlo,'DejaVu Sans Mono',consolas,'Courier New',monospace\"><span style=\"color: #008080; text-decoration-color: #008080; font-weight: bold\">4</span> column names have been cleaned\n",
       "</pre>\n"
      ],
      "text/plain": [
       "\u001b[1;36m4\u001b[0m column names have been cleaned\n"
      ]
     },
     "metadata": {},
     "output_type": "display_data"
    },
    {
     "data": {
      "text/html": [
       "<div>\n",
       "<style scoped>\n",
       "    .dataframe tbody tr th:only-of-type {\n",
       "        vertical-align: middle;\n",
       "    }\n",
       "\n",
       "    .dataframe tbody tr th {\n",
       "        vertical-align: top;\n",
       "    }\n",
       "\n",
       "    .dataframe thead th {\n",
       "        text-align: right;\n",
       "    }\n",
       "</style>\n",
       "<table border=\"1\" class=\"dataframe\">\n",
       "  <thead>\n",
       "    <tr style=\"text-align: right;\">\n",
       "      <th>App</th>\n",
       "      <th>CBS Sports App - Scores, News, Stats &amp; Watch Live</th>\n",
       "      <th>Food Calorie Calculator</th>\n",
       "      <th>Google Handwriting Input</th>\n",
       "    </tr>\n",
       "  </thead>\n",
       "  <tbody>\n",
       "    <tr>\n",
       "      <th>translated_review</th>\n",
       "      <td>This huge let down. I try watch year crossfit games fails always. It fails worst possible time. CBS disappointment.</td>\n",
       "      <td>Disgusting app... won't install</td>\n",
       "      <td>Good</td>\n",
       "    </tr>\n",
       "    <tr>\n",
       "      <th>sentiment</th>\n",
       "      <td>Negative</td>\n",
       "      <td>Negative</td>\n",
       "      <td>Positive</td>\n",
       "    </tr>\n",
       "    <tr>\n",
       "      <th>sentiment_polarity</th>\n",
       "      <td>-0.337</td>\n",
       "      <td>-1.000</td>\n",
       "      <td>0.700</td>\n",
       "    </tr>\n",
       "    <tr>\n",
       "      <th>sentiment_subjectivity</th>\n",
       "      <td>0.598</td>\n",
       "      <td>1.000</td>\n",
       "      <td>0.600</td>\n",
       "    </tr>\n",
       "  </tbody>\n",
       "</table>\n",
       "</div>"
      ],
      "text/plain": [
       "App                                                                                       CBS Sports App - Scores, News, Stats & Watch Live  \\\n",
       "translated_review       This huge let down. I try watch year crossfit games fails always. It fails worst possible time. CBS disappointment.   \n",
       "sentiment                                                                                                                          Negative   \n",
       "sentiment_polarity                                                                                                                   -0.337   \n",
       "sentiment_subjectivity                                                                                                                0.598   \n",
       "\n",
       "App                             Food Calorie Calculator  \\\n",
       "translated_review       Disgusting app... won't install   \n",
       "sentiment                                      Negative   \n",
       "sentiment_polarity                               -1.000   \n",
       "sentiment_subjectivity                            1.000   \n",
       "\n",
       "App                    Google Handwriting Input  \n",
       "translated_review                          Good  \n",
       "sentiment                              Positive  \n",
       "sentiment_polarity                        0.700  \n",
       "sentiment_subjectivity                    0.600  "
      ]
     },
     "execution_count": 109,
     "metadata": {},
     "output_type": "execute_result"
    }
   ],
   "source": [
    "df2 = clean_columns(df2)\n",
    "df2.sample(3).T"
   ]
  },
  {
   "cell_type": "code",
   "execution_count": 110,
   "metadata": {},
   "outputs": [
    {
     "name": "stdout",
     "output_type": "stream",
     "text": [
      "<class 'pandas.core.frame.DataFrame'>\n",
      "Index: 64295 entries, 10 Best Foods for You to Houzz Interior Design Ideas\n",
      "Data columns (total 4 columns):\n",
      " #   Column                  Non-Null Count  Dtype  \n",
      "---  ------                  --------------  -----  \n",
      " 0   translated_review       37427 non-null  object \n",
      " 1   sentiment               37432 non-null  object \n",
      " 2   sentiment_polarity      37432 non-null  float64\n",
      " 3   sentiment_subjectivity  37432 non-null  float64\n",
      "dtypes: float64(2), object(2)\n",
      "memory usage: 2.5+ MB\n"
     ]
    }
   ],
   "source": [
    "df2.info()"
   ]
  },
  {
   "attachments": {},
   "cell_type": "markdown",
   "metadata": {},
   "source": [
    "#### Handling Duplicates"
   ]
  },
  {
   "cell_type": "code",
   "execution_count": 111,
   "metadata": {},
   "outputs": [
    {
     "data": {
      "text/plain": [
       "True     36299\n",
       "False    27996\n",
       "dtype: int64"
      ]
     },
     "execution_count": 111,
     "metadata": {},
     "output_type": "execute_result"
    }
   ],
   "source": [
    "# checking for duplicates\n",
    "df2.duplicated().value_counts()"
   ]
  },
  {
   "cell_type": "code",
   "execution_count": 112,
   "metadata": {},
   "outputs": [],
   "source": [
    "# dropping duplicates\n",
    "df2.drop_duplicates(keep='first', inplace=True)"
   ]
  },
  {
   "cell_type": "code",
   "execution_count": 113,
   "metadata": {},
   "outputs": [
    {
     "data": {
      "text/plain": [
       "(27996, 4)"
      ]
     },
     "execution_count": 113,
     "metadata": {},
     "output_type": "execute_result"
    }
   ],
   "source": [
    "# shape of dataframe after removing duplicates\n",
    "df2.shape"
   ]
  },
  {
   "cell_type": "code",
   "execution_count": 114,
   "metadata": {},
   "outputs": [
    {
     "name": "stdout",
     "output_type": "stream",
     "text": [
      "<class 'pandas.core.frame.DataFrame'>\n",
      "Index: 27996 entries, 10 Best Foods for You to Housing-Real Estate & Property\n",
      "Data columns (total 4 columns):\n",
      " #   Column                  Non-Null Count  Dtype  \n",
      "---  ------                  --------------  -----  \n",
      " 0   translated_review       27994 non-null  object \n",
      " 1   sentiment               27995 non-null  object \n",
      " 2   sentiment_polarity      27995 non-null  float64\n",
      " 3   sentiment_subjectivity  27995 non-null  float64\n",
      "dtypes: float64(2), object(2)\n",
      "memory usage: 1.1+ MB\n"
     ]
    }
   ],
   "source": [
    "df2.info()"
   ]
  },
  {
   "attachments": {},
   "cell_type": "markdown",
   "metadata": {},
   "source": [
    "#### Handling Irrelevant Values"
   ]
  },
  {
   "cell_type": "code",
   "execution_count": 115,
   "metadata": {},
   "outputs": [
    {
     "data": {
      "text/plain": [
       "Index(['translated_review', 'sentiment', 'sentiment_polarity',\n",
       "       'sentiment_subjectivity'],\n",
       "      dtype='object')"
      ]
     },
     "execution_count": 115,
     "metadata": {},
     "output_type": "execute_result"
    }
   ],
   "source": [
    "df2.columns"
   ]
  },
  {
   "cell_type": "code",
   "execution_count": 44,
   "metadata": {},
   "outputs": [
    {
     "data": {
      "text/plain": [
       "array(['I like eat delicious food. That\\'s I\\'m cooking food myself, case \"10 Best Foods\" helps lot, also \"Best Before (Shelf Life)\"',\n",
       "       'This help eating healthy exercise regular basis', nan, ...,\n",
       "       'Dumb app, I wanted post property rent give option. Website work. Waste time space phone.',\n",
       "       'I property business got link SMS happy performance still guys need raise bar guys Cheers',\n",
       "       'Useless app, I searched flats kondapur, Hyderabad . None number reachable I know flats unavailable would keep posts active'],\n",
       "      dtype=object)"
      ]
     },
     "execution_count": 44,
     "metadata": {},
     "output_type": "execute_result"
    }
   ],
   "source": [
    "df2.translated_review.unique()"
   ]
  },
  {
   "cell_type": "code",
   "execution_count": 117,
   "metadata": {},
   "outputs": [
    {
     "data": {
      "text/plain": [
       "App\n",
       "Divar                                                                                                                                         To Mr. Rouhani, you will have a 6.7-year genocide recorded in the history of mankind.\n",
       "Google                      Google Assistant broken. Both\"OK Google\" \"Hey Google\" used work fine sudden completely unresponsive. Voice commands worked I manually opened assistant hotwords nothing. The option Access Voice Mat...\n",
       "Brightest LED Flashlight                                                                                                                                                     Great flashlite sos feature blinking light. Great work\n",
       "Name: translated_review, dtype: object"
      ]
     },
     "execution_count": 117,
     "metadata": {},
     "output_type": "execute_result"
    }
   ],
   "source": [
    "df2.translated_review.sample(3).T"
   ]
  },
  {
   "cell_type": "code",
   "execution_count": 118,
   "metadata": {},
   "outputs": [
    {
     "data": {
      "text/plain": [
       "count                                                                                                                          27994\n",
       "unique                                                                                                                         27994\n",
       "top       I like eat delicious food. That's I'm cooking food myself, case \"10 Best Foods\" helps lot, also \"Best Before (Shelf Life)\"\n",
       "freq                                                                                                                               1\n",
       "Name: translated_review, dtype: object"
      ]
     },
     "execution_count": 118,
     "metadata": {},
     "output_type": "execute_result"
    }
   ],
   "source": [
    "df2.translated_review.describe().T"
   ]
  },
  {
   "attachments": {},
   "cell_type": "markdown",
   "metadata": {},
   "source": [
    "> No irrelevant values"
   ]
  },
  {
   "cell_type": "code",
   "execution_count": 119,
   "metadata": {},
   "outputs": [
    {
     "data": {
      "text/plain": [
       "array(['Positive', nan, 'Neutral', 'Negative'], dtype=object)"
      ]
     },
     "execution_count": 119,
     "metadata": {},
     "output_type": "execute_result"
    }
   ],
   "source": [
    "df2.sentiment.unique()"
   ]
  },
  {
   "cell_type": "code",
   "execution_count": 120,
   "metadata": {},
   "outputs": [
    {
     "data": {
      "text/plain": [
       "count        27995\n",
       "unique           3\n",
       "top       Positive\n",
       "freq         17593\n",
       "Name: sentiment, dtype: object"
      ]
     },
     "execution_count": 120,
     "metadata": {},
     "output_type": "execute_result"
    }
   ],
   "source": [
    "df2.sentiment.describe()"
   ]
  },
  {
   "cell_type": "code",
   "execution_count": 121,
   "metadata": {},
   "outputs": [
    {
     "data": {
      "image/png": "[encoded data removed]",
      "text/plain": [
       "<Figure size 1000x600 with 1 Axes>"
      ]
     },
     "metadata": {},
     "output_type": "display_data"
    }
   ],
   "source": [
    "ax = sns.countplot(df2.sentiment);\n",
    "for p in ax.containers:\n",
    "    ax.bar_label(p)"
   ]
  },
  {
   "attachments": {},
   "cell_type": "markdown",
   "metadata": {},
   "source": [
    "> No irrelevant values"
   ]
  },
  {
   "cell_type": "code",
   "execution_count": 122,
   "metadata": {},
   "outputs": [
    {
     "data": {
      "text/plain": [
       "array([ 1.        ,  0.25      ,         nan, ..., -0.52857143,\n",
       "       -0.37777778,  0.17333333])"
      ]
     },
     "execution_count": 122,
     "metadata": {},
     "output_type": "execute_result"
    }
   ],
   "source": [
    "df2.sentiment_polarity.unique()"
   ]
  },
  {
   "cell_type": "code",
   "execution_count": 123,
   "metadata": {},
   "outputs": [
    {
     "data": {
      "text/plain": [
       "App\n",
       "HotelTonight: Book amazing deals at great hotels    0.217\n",
       "Cut the Rope FULL FREE                             -0.070\n",
       "Facebook Ads Manager                                0.600\n",
       "Name: sentiment_polarity, dtype: float64"
      ]
     },
     "execution_count": 123,
     "metadata": {},
     "output_type": "execute_result"
    }
   ],
   "source": [
    "df2.sentiment_polarity.sample(3)"
   ]
  },
  {
   "cell_type": "code",
   "execution_count": 124,
   "metadata": {},
   "outputs": [
    {
     "data": {
      "text/plain": [
       "dtype('float64')"
      ]
     },
     "execution_count": 124,
     "metadata": {},
     "output_type": "execute_result"
    }
   ],
   "source": [
    "df2.sentiment_polarity.dtype"
   ]
  },
  {
   "cell_type": "code",
   "execution_count": 125,
   "metadata": {},
   "outputs": [
    {
     "data": {
      "text/plain": [
       "count   27995.000\n",
       "mean        0.170\n",
       "std         0.344\n",
       "min        -1.000\n",
       "25%         0.000\n",
       "50%         0.140\n",
       "75%         0.400\n",
       "max         1.000\n",
       "Name: sentiment_polarity, dtype: float64"
      ]
     },
     "execution_count": 125,
     "metadata": {},
     "output_type": "execute_result"
    }
   ],
   "source": [
    "df2.sentiment_polarity.describe()"
   ]
  },
  {
   "attachments": {},
   "cell_type": "markdown",
   "metadata": {},
   "source": [
    "> No irrelevant values"
   ]
  },
  {
   "cell_type": "code",
   "execution_count": 126,
   "metadata": {},
   "outputs": [
    {
     "data": {
      "text/plain": [
       "array([0.53333333, 0.28846154,        nan, ..., 0.51145833, 0.7172619 ,\n",
       "       0.2594697 ])"
      ]
     },
     "execution_count": 126,
     "metadata": {},
     "output_type": "execute_result"
    }
   ],
   "source": [
    "df2.sentiment_subjectivity.unique()"
   ]
  },
  {
   "cell_type": "code",
   "execution_count": 127,
   "metadata": {},
   "outputs": [
    {
     "data": {
      "text/plain": [
       "count   27995.000\n",
       "mean        0.484\n",
       "std         0.261\n",
       "min         0.000\n",
       "25%         0.346\n",
       "50%         0.502\n",
       "75%         0.650\n",
       "max         1.000\n",
       "Name: sentiment_subjectivity, dtype: float64"
      ]
     },
     "execution_count": 127,
     "metadata": {},
     "output_type": "execute_result"
    }
   ],
   "source": [
    "df2.sentiment_subjectivity.describe()"
   ]
  },
  {
   "attachments": {},
   "cell_type": "markdown",
   "metadata": {},
   "source": [
    "> No irrelevant values"
   ]
  },
  {
   "attachments": {},
   "cell_type": "markdown",
   "metadata": {},
   "source": [
    "### Handling Missing Values"
   ]
  },
  {
   "cell_type": "code",
   "execution_count": 128,
   "metadata": {},
   "outputs": [
    {
     "data": {
      "text/plain": [
       "category             0\n",
       "rating            1458\n",
       "reviews              0\n",
       "size                 0\n",
       "installs             0\n",
       "type                 1\n",
       "price                0\n",
       "content_rating       0\n",
       "genres               0\n",
       "last_updated         0\n",
       "current_ver          8\n",
       "android_ver          2\n",
       "dtype: int64"
      ]
     },
     "execution_count": 128,
     "metadata": {},
     "output_type": "execute_result"
    }
   ],
   "source": [
    "# 'Apps' data\n",
    "df1.isnull().sum()"
   ]
  },
  {
   "cell_type": "code",
   "execution_count": 129,
   "metadata": {},
   "outputs": [
    {
     "data": {
      "text/plain": [
       "category          0.000\n",
       "rating           14.090\n",
       "reviews           0.000\n",
       "size              0.000\n",
       "installs          0.000\n",
       "type              0.010\n",
       "price             0.000\n",
       "content_rating    0.000\n",
       "genres            0.000\n",
       "last_updated      0.000\n",
       "current_ver       0.077\n",
       "android_ver       0.019\n",
       "dtype: float64"
      ]
     },
     "execution_count": 129,
     "metadata": {},
     "output_type": "execute_result"
    }
   ],
   "source": [
    "# percentages of missing values\n",
    "df1.isnull().sum() / df1.shape[0] * 100"
   ]
  },
  {
   "attachments": {},
   "cell_type": "markdown",
   "metadata": {},
   "source": [
    "> `Rating` column has `14%` missing values. Some other columns have minimal missing values."
   ]
  },
  {
   "cell_type": "code",
   "execution_count": 130,
   "metadata": {},
   "outputs": [
    {
     "data": {
      "text/plain": [
       "translated_review         2\n",
       "sentiment                 1\n",
       "sentiment_polarity        1\n",
       "sentiment_subjectivity    1\n",
       "dtype: int64"
      ]
     },
     "execution_count": 130,
     "metadata": {},
     "output_type": "execute_result"
    }
   ],
   "source": [
    "# 'Reviews' data\n",
    "df2.isnull().sum()"
   ]
  },
  {
   "cell_type": "code",
   "execution_count": 131,
   "metadata": {},
   "outputs": [
    {
     "data": {
      "text/plain": [
       "True"
      ]
     },
     "execution_count": 131,
     "metadata": {},
     "output_type": "execute_result"
    }
   ],
   "source": [
    "df2.isnull().sum().any()"
   ]
  },
  {
   "attachments": {},
   "cell_type": "markdown",
   "metadata": {},
   "source": [
    "> No null values"
   ]
  },
  {
   "attachments": {},
   "cell_type": "markdown",
   "metadata": {},
   "source": [
    "### Exporting cleaned dataset"
   ]
  },
  {
   "cell_type": "code",
   "execution_count": 132,
   "metadata": {},
   "outputs": [],
   "source": [
    "# 'App' data\n",
    "df1.to_csv(\"cleaned_apps.csv\")"
   ]
  },
  {
   "cell_type": "code",
   "execution_count": 133,
   "metadata": {},
   "outputs": [],
   "source": [
    "# 'Reviews' data\n",
    "df2.to_csv(\"cleaned_reviews.csv\")"
   ]
  },
  {
   "attachments": {},
   "cell_type": "markdown",
   "metadata": {},
   "source": [
    "### Loading cleaned data and handling missing values"
   ]
  },
  {
   "cell_type": "code",
   "execution_count": 134,
   "metadata": {},
   "outputs": [
    {
     "data": {
      "text/html": [
       "<div>\n",
       "<style scoped>\n",
       "    .dataframe tbody tr th:only-of-type {\n",
       "        vertical-align: middle;\n",
       "    }\n",
       "\n",
       "    .dataframe tbody tr th {\n",
       "        vertical-align: top;\n",
       "    }\n",
       "\n",
       "    .dataframe thead th {\n",
       "        text-align: right;\n",
       "    }\n",
       "</style>\n",
       "<table border=\"1\" class=\"dataframe\">\n",
       "  <thead>\n",
       "    <tr style=\"text-align: right;\">\n",
       "      <th></th>\n",
       "      <th>category</th>\n",
       "      <th>rating</th>\n",
       "      <th>reviews</th>\n",
       "      <th>size</th>\n",
       "      <th>installs</th>\n",
       "      <th>type</th>\n",
       "      <th>price</th>\n",
       "      <th>content_rating</th>\n",
       "      <th>genres</th>\n",
       "      <th>last_updated</th>\n",
       "      <th>current_ver</th>\n",
       "      <th>android_ver</th>\n",
       "    </tr>\n",
       "    <tr>\n",
       "      <th>App</th>\n",
       "      <th></th>\n",
       "      <th></th>\n",
       "      <th></th>\n",
       "      <th></th>\n",
       "      <th></th>\n",
       "      <th></th>\n",
       "      <th></th>\n",
       "      <th></th>\n",
       "      <th></th>\n",
       "      <th></th>\n",
       "      <th></th>\n",
       "      <th></th>\n",
       "    </tr>\n",
       "  </thead>\n",
       "  <tbody>\n",
       "    <tr>\n",
       "      <th>Photo Editor &amp; Candy Camera &amp; Grid &amp; ScrapBook</th>\n",
       "      <td>ART_AND_DESIGN</td>\n",
       "      <td>4.100</td>\n",
       "      <td>159.000</td>\n",
       "      <td>19M</td>\n",
       "      <td>10000.000</td>\n",
       "      <td>Free</td>\n",
       "      <td>0.000</td>\n",
       "      <td>Everyone</td>\n",
       "      <td>Art &amp; Design</td>\n",
       "      <td>07-01-2018</td>\n",
       "      <td>1.0.0</td>\n",
       "      <td>4.0.3 and up</td>\n",
       "    </tr>\n",
       "    <tr>\n",
       "      <th>Coloring book moana</th>\n",
       "      <td>ART_AND_DESIGN</td>\n",
       "      <td>3.900</td>\n",
       "      <td>967.000</td>\n",
       "      <td>14M</td>\n",
       "      <td>500000.000</td>\n",
       "      <td>Free</td>\n",
       "      <td>0.000</td>\n",
       "      <td>Everyone</td>\n",
       "      <td>Art &amp; Design;Pretend Play</td>\n",
       "      <td>15-01-2018</td>\n",
       "      <td>2.0.0</td>\n",
       "      <td>4.0.3 and up</td>\n",
       "    </tr>\n",
       "    <tr>\n",
       "      <th>U Launcher Lite – FREE Live Cool Themes, Hide Apps</th>\n",
       "      <td>ART_AND_DESIGN</td>\n",
       "      <td>4.700</td>\n",
       "      <td>87510.000</td>\n",
       "      <td>8.7M</td>\n",
       "      <td>5000000.000</td>\n",
       "      <td>Free</td>\n",
       "      <td>0.000</td>\n",
       "      <td>Everyone</td>\n",
       "      <td>Art &amp; Design</td>\n",
       "      <td>01-08-2018</td>\n",
       "      <td>1.2.4</td>\n",
       "      <td>4.0.3 and up</td>\n",
       "    </tr>\n",
       "    <tr>\n",
       "      <th>Sketch - Draw &amp; Paint</th>\n",
       "      <td>ART_AND_DESIGN</td>\n",
       "      <td>4.500</td>\n",
       "      <td>215644.000</td>\n",
       "      <td>25M</td>\n",
       "      <td>50000000.000</td>\n",
       "      <td>Free</td>\n",
       "      <td>0.000</td>\n",
       "      <td>Teen</td>\n",
       "      <td>Art &amp; Design</td>\n",
       "      <td>08-06-2018</td>\n",
       "      <td>Varies with device</td>\n",
       "      <td>4.2 and up</td>\n",
       "    </tr>\n",
       "    <tr>\n",
       "      <th>Pixel Draw - Number Art Coloring Book</th>\n",
       "      <td>ART_AND_DESIGN</td>\n",
       "      <td>4.300</td>\n",
       "      <td>967.000</td>\n",
       "      <td>2.8M</td>\n",
       "      <td>100000.000</td>\n",
       "      <td>Free</td>\n",
       "      <td>0.000</td>\n",
       "      <td>Everyone</td>\n",
       "      <td>Art &amp; Design;Creativity</td>\n",
       "      <td>20-06-2018</td>\n",
       "      <td>1.1</td>\n",
       "      <td>4.4 and up</td>\n",
       "    </tr>\n",
       "  </tbody>\n",
       "</table>\n",
       "</div>"
      ],
      "text/plain": [
       "                                                          category  rating  \\\n",
       "App                                                                          \n",
       "Photo Editor & Candy Camera & Grid & ScrapBook      ART_AND_DESIGN   4.100   \n",
       "Coloring book moana                                 ART_AND_DESIGN   3.900   \n",
       "U Launcher Lite – FREE Live Cool Themes, Hide Apps  ART_AND_DESIGN   4.700   \n",
       "Sketch - Draw & Paint                               ART_AND_DESIGN   4.500   \n",
       "Pixel Draw - Number Art Coloring Book               ART_AND_DESIGN   4.300   \n",
       "\n",
       "                                                      reviews  size  \\\n",
       "App                                                                   \n",
       "Photo Editor & Candy Camera & Grid & ScrapBook        159.000   19M   \n",
       "Coloring book moana                                   967.000   14M   \n",
       "U Launcher Lite – FREE Live Cool Themes, Hide Apps  87510.000  8.7M   \n",
       "Sketch - Draw & Paint                              215644.000   25M   \n",
       "Pixel Draw - Number Art Coloring Book                 967.000  2.8M   \n",
       "\n",
       "                                                       installs  type  price  \\\n",
       "App                                                                            \n",
       "Photo Editor & Candy Camera & Grid & ScrapBook        10000.000  Free  0.000   \n",
       "Coloring book moana                                  500000.000  Free  0.000   \n",
       "U Launcher Lite – FREE Live Cool Themes, Hide Apps  5000000.000  Free  0.000   \n",
       "Sketch - Draw & Paint                              50000000.000  Free  0.000   \n",
       "Pixel Draw - Number Art Coloring Book                100000.000  Free  0.000   \n",
       "\n",
       "                                                   content_rating  \\\n",
       "App                                                                 \n",
       "Photo Editor & Candy Camera & Grid & ScrapBook           Everyone   \n",
       "Coloring book moana                                      Everyone   \n",
       "U Launcher Lite – FREE Live Cool Themes, Hide Apps       Everyone   \n",
       "Sketch - Draw & Paint                                        Teen   \n",
       "Pixel Draw - Number Art Coloring Book                    Everyone   \n",
       "\n",
       "                                                                       genres  \\\n",
       "App                                                                             \n",
       "Photo Editor & Candy Camera & Grid & ScrapBook                   Art & Design   \n",
       "Coloring book moana                                 Art & Design;Pretend Play   \n",
       "U Launcher Lite – FREE Live Cool Themes, Hide Apps               Art & Design   \n",
       "Sketch - Draw & Paint                                            Art & Design   \n",
       "Pixel Draw - Number Art Coloring Book                 Art & Design;Creativity   \n",
       "\n",
       "                                                   last_updated  \\\n",
       "App                                                               \n",
       "Photo Editor & Candy Camera & Grid & ScrapBook       07-01-2018   \n",
       "Coloring book moana                                  15-01-2018   \n",
       "U Launcher Lite – FREE Live Cool Themes, Hide Apps   01-08-2018   \n",
       "Sketch - Draw & Paint                                08-06-2018   \n",
       "Pixel Draw - Number Art Coloring Book                20-06-2018   \n",
       "\n",
       "                                                           current_ver  \\\n",
       "App                                                                      \n",
       "Photo Editor & Candy Camera & Grid & ScrapBook                   1.0.0   \n",
       "Coloring book moana                                              2.0.0   \n",
       "U Launcher Lite – FREE Live Cool Themes, Hide Apps               1.2.4   \n",
       "Sketch - Draw & Paint                               Varies with device   \n",
       "Pixel Draw - Number Art Coloring Book                              1.1   \n",
       "\n",
       "                                                     android_ver  \n",
       "App                                                               \n",
       "Photo Editor & Candy Camera & Grid & ScrapBook      4.0.3 and up  \n",
       "Coloring book moana                                 4.0.3 and up  \n",
       "U Launcher Lite – FREE Live Cool Themes, Hide Apps  4.0.3 and up  \n",
       "Sketch - Draw & Paint                                 4.2 and up  \n",
       "Pixel Draw - Number Art Coloring Book                 4.4 and up  "
      ]
     },
     "execution_count": 134,
     "metadata": {},
     "output_type": "execute_result"
    }
   ],
   "source": [
    "# clean 'App' data\n",
    "df1_clean = pd.read_csv(\"cleaned_apps.csv\", index_col='App')\n",
    "df1_clean.head()"
   ]
  },
  {
   "cell_type": "code",
   "execution_count": 135,
   "metadata": {},
   "outputs": [
    {
     "data": {
      "text/plain": [
       "category             0\n",
       "rating            1458\n",
       "reviews              0\n",
       "size                 0\n",
       "installs             0\n",
       "type                 1\n",
       "price                0\n",
       "content_rating       0\n",
       "genres               0\n",
       "last_updated         0\n",
       "current_ver          8\n",
       "android_ver          2\n",
       "dtype: int64"
      ]
     },
     "execution_count": 135,
     "metadata": {},
     "output_type": "execute_result"
    }
   ],
   "source": [
    "df1_clean.isnull().sum()"
   ]
  },
  {
   "cell_type": "code",
   "execution_count": 136,
   "metadata": {},
   "outputs": [
    {
     "data": {
      "text/plain": [
       "App\n",
       "Photo Editor & Candy Camera & Grid & ScrapBook          159.000\n",
       "Coloring book moana                                     967.000\n",
       "U Launcher Lite – FREE Live Cool Themes, Hide Apps    87510.000\n",
       "Sketch - Draw & Paint                                215644.000\n",
       "Pixel Draw - Number Art Coloring Book                   967.000\n",
       "                                                        ...    \n",
       "Sya9a Maroc - FR                                         38.000\n",
       "Fr. Mike Schmitz Audio Teachings                          4.000\n",
       "Parkinson Exercices FR                                    3.000\n",
       "The SCP Foundation DB fr nn5n                           114.000\n",
       "iHoroscope - 2018 Daily Horoscope & Astrology        398307.000\n",
       "Name: reviews, Length: 10348, dtype: float64"
      ]
     },
     "execution_count": 136,
     "metadata": {},
     "output_type": "execute_result"
    }
   ],
   "source": [
    "# changing the null values in Rating column to 0\n",
    "df1_clean.reviews.fillna(0)"
   ]
  },
  {
   "cell_type": "code",
   "execution_count": 137,
   "metadata": {},
   "outputs": [
    {
     "data": {
      "text/plain": [
       "False"
      ]
     },
     "execution_count": 137,
     "metadata": {},
     "output_type": "execute_result"
    }
   ],
   "source": [
    "df1_clean.reviews.isnull().sum().any()"
   ]
  },
  {
   "cell_type": "code",
   "execution_count": 138,
   "metadata": {},
   "outputs": [
    {
     "name": "stdout",
     "output_type": "stream",
     "text": [
      "<class 'pandas.core.frame.DataFrame'>\n",
      "Index: 10348 entries, Photo Editor & Candy Camera & Grid & ScrapBook to iHoroscope - 2018 Daily Horoscope & Astrology\n",
      "Data columns (total 12 columns):\n",
      " #   Column          Non-Null Count  Dtype  \n",
      "---  ------          --------------  -----  \n",
      " 0   category        10348 non-null  object \n",
      " 1   rating          8890 non-null   float64\n",
      " 2   reviews         10348 non-null  float64\n",
      " 3   size            10348 non-null  object \n",
      " 4   installs        10348 non-null  float64\n",
      " 5   type            10347 non-null  object \n",
      " 6   price           10348 non-null  float64\n",
      " 7   content_rating  10348 non-null  object \n",
      " 8   genres          10348 non-null  object \n",
      " 9   last_updated    10348 non-null  object \n",
      " 10  current_ver     10340 non-null  object \n",
      " 11  android_ver     10346 non-null  object \n",
      "dtypes: float64(4), object(8)\n",
      "memory usage: 1.3+ MB\n"
     ]
    }
   ],
   "source": [
    "df1_clean.info()"
   ]
  },
  {
   "attachments": {},
   "cell_type": "markdown",
   "metadata": {},
   "source": [
    "Deleting the rows with a null value for columns with datatype text or string (`type`, `curent_ver` and `android_ver`)"
   ]
  },
  {
   "cell_type": "code",
   "execution_count": 139,
   "metadata": {},
   "outputs": [],
   "source": [
    "df1_clean.dropna(inplace=True)"
   ]
  },
  {
   "cell_type": "code",
   "execution_count": 140,
   "metadata": {},
   "outputs": [
    {
     "data": {
      "text/plain": [
       "False"
      ]
     },
     "execution_count": 140,
     "metadata": {},
     "output_type": "execute_result"
    }
   ],
   "source": [
    "df1_clean.isnull().sum().any()"
   ]
  },
  {
   "attachments": {},
   "cell_type": "markdown",
   "metadata": {},
   "source": [
    "> No null values"
   ]
  },
  {
   "cell_type": "code",
   "execution_count": 141,
   "metadata": {},
   "outputs": [
    {
     "data": {
      "text/html": [
       "<div>\n",
       "<style scoped>\n",
       "    .dataframe tbody tr th:only-of-type {\n",
       "        vertical-align: middle;\n",
       "    }\n",
       "\n",
       "    .dataframe tbody tr th {\n",
       "        vertical-align: top;\n",
       "    }\n",
       "\n",
       "    .dataframe thead th {\n",
       "        text-align: right;\n",
       "    }\n",
       "</style>\n",
       "<table border=\"1\" class=\"dataframe\">\n",
       "  <thead>\n",
       "    <tr style=\"text-align: right;\">\n",
       "      <th></th>\n",
       "      <th>translated_review</th>\n",
       "      <th>sentiment</th>\n",
       "      <th>sentiment_polarity</th>\n",
       "      <th>sentiment_subjectivity</th>\n",
       "    </tr>\n",
       "    <tr>\n",
       "      <th>App</th>\n",
       "      <th></th>\n",
       "      <th></th>\n",
       "      <th></th>\n",
       "      <th></th>\n",
       "    </tr>\n",
       "  </thead>\n",
       "  <tbody>\n",
       "    <tr>\n",
       "      <th>10 Best Foods for You</th>\n",
       "      <td>I like eat delicious food. That's I'm cooking food myself, case \"10 Best Foods\" helps lot, also \"Best Before (Shelf Life)\"</td>\n",
       "      <td>Positive</td>\n",
       "      <td>1.000</td>\n",
       "      <td>0.533</td>\n",
       "    </tr>\n",
       "    <tr>\n",
       "      <th>10 Best Foods for You</th>\n",
       "      <td>This help eating healthy exercise regular basis</td>\n",
       "      <td>Positive</td>\n",
       "      <td>0.250</td>\n",
       "      <td>0.288</td>\n",
       "    </tr>\n",
       "    <tr>\n",
       "      <th>10 Best Foods for You</th>\n",
       "      <td>NaN</td>\n",
       "      <td>NaN</td>\n",
       "      <td>NaN</td>\n",
       "      <td>NaN</td>\n",
       "    </tr>\n",
       "    <tr>\n",
       "      <th>10 Best Foods for You</th>\n",
       "      <td>Works great especially going grocery store</td>\n",
       "      <td>Positive</td>\n",
       "      <td>0.400</td>\n",
       "      <td>0.875</td>\n",
       "    </tr>\n",
       "    <tr>\n",
       "      <th>10 Best Foods for You</th>\n",
       "      <td>Best idea us</td>\n",
       "      <td>Positive</td>\n",
       "      <td>1.000</td>\n",
       "      <td>0.300</td>\n",
       "    </tr>\n",
       "  </tbody>\n",
       "</table>\n",
       "</div>"
      ],
      "text/plain": [
       "                                                                                                                                translated_review  \\\n",
       "App                                                                                                                                                 \n",
       "10 Best Foods for You  I like eat delicious food. That's I'm cooking food myself, case \"10 Best Foods\" helps lot, also \"Best Before (Shelf Life)\"   \n",
       "10 Best Foods for You                                                                             This help eating healthy exercise regular basis   \n",
       "10 Best Foods for You                                                                                                                         NaN   \n",
       "10 Best Foods for You                                                                                  Works great especially going grocery store   \n",
       "10 Best Foods for You                                                                                                                Best idea us   \n",
       "\n",
       "                      sentiment  sentiment_polarity  sentiment_subjectivity  \n",
       "App                                                                          \n",
       "10 Best Foods for You  Positive               1.000                   0.533  \n",
       "10 Best Foods for You  Positive               0.250                   0.288  \n",
       "10 Best Foods for You       NaN                 NaN                     NaN  \n",
       "10 Best Foods for You  Positive               0.400                   0.875  \n",
       "10 Best Foods for You  Positive               1.000                   0.300  "
      ]
     },
     "execution_count": 141,
     "metadata": {},
     "output_type": "execute_result"
    }
   ],
   "source": [
    "# clean 'Reviews' data\n",
    "df2_clean = pd.read_csv(\"cleaned_reviews.csv\", index_col='App')\n",
    "df2_clean.head()"
   ]
  },
  {
   "cell_type": "code",
   "execution_count": 142,
   "metadata": {},
   "outputs": [
    {
     "data": {
      "text/plain": [
       "translated_review         2\n",
       "sentiment                 1\n",
       "sentiment_polarity        1\n",
       "sentiment_subjectivity    1\n",
       "dtype: int64"
      ]
     },
     "execution_count": 142,
     "metadata": {},
     "output_type": "execute_result"
    }
   ],
   "source": [
    "df2_clean.isnull().sum()"
   ]
  },
  {
   "attachments": {},
   "cell_type": "markdown",
   "metadata": {},
   "source": [
    "> No null values"
   ]
  },
  {
   "attachments": {},
   "cell_type": "markdown",
   "metadata": {},
   "source": [
    "### Exporting final data"
   ]
  },
  {
   "cell_type": "code",
   "execution_count": 143,
   "metadata": {},
   "outputs": [],
   "source": [
    "df1_clean.to_csv(\"cleaned_apps_final.csv\")"
   ]
  },
  {
   "cell_type": "code",
   "execution_count": 144,
   "metadata": {},
   "outputs": [],
   "source": [
    "df2_clean.to_csv(\"cleaned_reviews_final.csv\")"
   ]
  },
  {
   "attachments": {},
   "cell_type": "markdown",
   "metadata": {},
   "source": [
    "# End"
   ]
  }
 ],
 "metadata": {
  "kernelspec": {
   "display_name": "base",
   "language": "python",
   "name": "python3"
  },
  "language_info": {
   "codemirror_mode": {
    "name": "ipython",
    "version": 3
   },
   "file_extension": ".py",
   "mimetype": "text/x-python",
   "name": "python",
   "nbconvert_exporter": "python",
   "pygments_lexer": "ipython3",
   "version": "3.9.13"
  },
  "orig_nbformat": 4,
  "vscode": {
   "interpreter": {
    "hash": "c0213b4e991faad0eaee93c2092d45d01284204b86fafe651bbf22ab4807397a"
   }
  }
 },
 "nbformat": 4,
 "nbformat_minor": 2
}
